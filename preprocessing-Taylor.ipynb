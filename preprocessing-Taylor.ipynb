{
 "cells": [
  {
   "cell_type": "code",
   "execution_count": 2,
   "metadata": {},
   "outputs": [],
   "source": [
    "import json\n",
    "\n",
    "import pandas as pd\n",
    "import numpy as np"
   ]
  },
  {
   "cell_type": "code",
   "execution_count": 3,
   "metadata": {
    "scrolled": true
   },
   "outputs": [],
   "source": [
    "df_raw = pd.read_csv('data/goemotions.csv')"
   ]
  },
  {
   "cell_type": "code",
   "execution_count": 4,
   "metadata": {},
   "outputs": [],
   "source": [
    "emotions_cols = ['admiration',\n",
    "       'amusement', 'anger', 'annoyance', 'approval', 'caring', 'confusion',\n",
    "       'curiosity', 'desire', 'disappointment', 'disapproval', 'disgust',\n",
    "       'embarrassment', 'excitement', 'fear', 'gratitude', 'grief', 'joy',\n",
    "       'love', 'nervousness', 'optimism', 'pride', 'realization', 'relief',\n",
    "       'remorse', 'sadness', 'surprise', 'neutral']"
   ]
  },
  {
   "cell_type": "code",
   "execution_count": 5,
   "metadata": {},
   "outputs": [],
   "source": [
    "emotion_categories = {'admiration': 'Positive', # Proposed simplified classification\n",
    "                      'amusement':'Positive',\n",
    "                      'anger':'Negative',\n",
    "                      'annoyance':'Negative',\n",
    "                      'approval':'Positive',\n",
    "                      'caring':'Positive',\n",
    "                      'confusion':'Neutral',\n",
    "                      'curiosity':'Positive',\n",
    "                      'desire':'Positive',\n",
    "                      'disappointment':'Negative',\n",
    "                      'disapproval':'Negative',\n",
    "                      'disgust':'Negative',\n",
    "                      'embarrassment':'Neutral',\n",
    "                      'excitement':'Positive',\n",
    "                      'fear':'Negative',\n",
    "                      'gratitude':'Positive',\n",
    "                      'grief':'Negative',\n",
    "                      'joy':'Positive',\n",
    "                      'love':'Positive',\n",
    "                      'nervousness':'Neutral',\n",
    "                      'optimism':'Positive',\n",
    "                      'pride':'Positive',\n",
    "                      'realization':'Neutral',\n",
    "                      'relief':'Positive',\n",
    "                      'remorse':'Negative',\n",
    "                      'sadness':'Negative',\n",
    "                      'surprise':'Neutral',\n",
    "                      'neutral':'Neutral'\n",
    "                       }"
   ]
  },
  {
   "cell_type": "code",
   "execution_count": 6,
   "metadata": {},
   "outputs": [],
   "source": [
    "emotion_groups = {'admiration': 1, \n",
    "                      'amusement':2,\n",
    "                      'anger':3,\n",
    "                      'annoyance':4,\n",
    "                      'approval':5,\n",
    "                      'caring':6,\n",
    "                      'confusion':7,\n",
    "                      'curiosity':8,\n",
    "                      'desire':9,\n",
    "                      'disappointment':10,\n",
    "                      'disapproval':11,\n",
    "                      'disgust':12,\n",
    "                      'embarrassment':13,\n",
    "                      'excitement':14,\n",
    "                      'fear':15,\n",
    "                      'gratitude':16,\n",
    "                      'grief':17,\n",
    "                      'joy':18,\n",
    "                      'love':19,\n",
    "                      'nervousness':20,\n",
    "                      'optimism':21,\n",
    "                      'pride':22,\n",
    "                      'realization':23,\n",
    "                      'relief':24,\n",
    "                      'remorse':25,\n",
    "                      'sadness':26,\n",
    "                      'surprise':27,\n",
    "                      'neutral':28\n",
    "                       }"
   ]
  },
  {
   "cell_type": "code",
   "execution_count": 7,
   "metadata": {},
   "outputs": [
    {
     "output_type": "execute_result",
     "data": {
      "text/plain": [
       "                                                text       id  \\\n",
       "0                                    That game hurt.  eew5j0j   \n",
       "1     You do right, if you don't care then fuck 'em!  ed2mah1   \n",
       "2                                 Man I love reddit.  eeibobj   \n",
       "3  [NAME] was nowhere near them, he was by the Fa...  eda6yn6   \n",
       "4  Right? Considering it’s such an important docu...  eespn2i   \n",
       "\n",
       "                author            subreddit    link_id   parent_id  \\\n",
       "0                Brdd9                  nrl  t3_ajis4z  t1_eew18eq   \n",
       "1             Labalool          confessions  t3_abru74  t1_ed2m7g7   \n",
       "2        MrsRobertshaw             facepalm  t3_ahulml   t3_ahulml   \n",
       "3  American_Fascist713  starwarsspeculation  t3_ackt2f  t1_eda65q2   \n",
       "4         ImperialBoss           TrueReddit  t3_aizyuz  t1_eesoak0   \n",
       "\n",
       "   created_utc  rater_id  example_very_unclear  sentiment  \n",
       "0   1548381039         1                 False    sadness  \n",
       "1   1546427744        37                 False    neutral  \n",
       "2   1547965054        18                 False       love  \n",
       "3   1546668601         2                 False    neutral  \n",
       "4   1548280208        61                 False  gratitude  "
      ],
      "text/html": "<div>\n<style scoped>\n    .dataframe tbody tr th:only-of-type {\n        vertical-align: middle;\n    }\n\n    .dataframe tbody tr th {\n        vertical-align: top;\n    }\n\n    .dataframe thead th {\n        text-align: right;\n    }\n</style>\n<table border=\"1\" class=\"dataframe\">\n  <thead>\n    <tr style=\"text-align: right;\">\n      <th></th>\n      <th>text</th>\n      <th>id</th>\n      <th>author</th>\n      <th>subreddit</th>\n      <th>link_id</th>\n      <th>parent_id</th>\n      <th>created_utc</th>\n      <th>rater_id</th>\n      <th>example_very_unclear</th>\n      <th>sentiment</th>\n    </tr>\n  </thead>\n  <tbody>\n    <tr>\n      <th>0</th>\n      <td>That game hurt.</td>\n      <td>eew5j0j</td>\n      <td>Brdd9</td>\n      <td>nrl</td>\n      <td>t3_ajis4z</td>\n      <td>t1_eew18eq</td>\n      <td>1548381039</td>\n      <td>1</td>\n      <td>False</td>\n      <td>sadness</td>\n    </tr>\n    <tr>\n      <th>1</th>\n      <td>You do right, if you don't care then fuck 'em!</td>\n      <td>ed2mah1</td>\n      <td>Labalool</td>\n      <td>confessions</td>\n      <td>t3_abru74</td>\n      <td>t1_ed2m7g7</td>\n      <td>1546427744</td>\n      <td>37</td>\n      <td>False</td>\n      <td>neutral</td>\n    </tr>\n    <tr>\n      <th>2</th>\n      <td>Man I love reddit.</td>\n      <td>eeibobj</td>\n      <td>MrsRobertshaw</td>\n      <td>facepalm</td>\n      <td>t3_ahulml</td>\n      <td>t3_ahulml</td>\n      <td>1547965054</td>\n      <td>18</td>\n      <td>False</td>\n      <td>love</td>\n    </tr>\n    <tr>\n      <th>3</th>\n      <td>[NAME] was nowhere near them, he was by the Fa...</td>\n      <td>eda6yn6</td>\n      <td>American_Fascist713</td>\n      <td>starwarsspeculation</td>\n      <td>t3_ackt2f</td>\n      <td>t1_eda65q2</td>\n      <td>1546668601</td>\n      <td>2</td>\n      <td>False</td>\n      <td>neutral</td>\n    </tr>\n    <tr>\n      <th>4</th>\n      <td>Right? Considering it’s such an important docu...</td>\n      <td>eespn2i</td>\n      <td>ImperialBoss</td>\n      <td>TrueReddit</td>\n      <td>t3_aizyuz</td>\n      <td>t1_eesoak0</td>\n      <td>1548280208</td>\n      <td>61</td>\n      <td>False</td>\n      <td>gratitude</td>\n    </tr>\n  </tbody>\n</table>\n</div>"
     },
     "metadata": {},
     "execution_count": 7
    }
   ],
   "source": [
    "df = df_raw.set_index(['text', 'id', 'author', 'subreddit', 'link_id', 'parent_id',\n",
    "       'created_utc', 'rater_id', 'example_very_unclear'])\n",
    "\n",
    "df = df[df==1].stack().reset_index().drop(0,1).rename(columns = {'level_9': 'sentiment'})\n",
    "df.head()"
   ]
  },
  {
   "cell_type": "code",
   "execution_count": 8,
   "metadata": {},
   "outputs": [
    {
     "output_type": "execute_result",
     "data": {
      "text/plain": [
       "                                                text       id  \\\n",
       "0                                    That game hurt.  eew5j0j   \n",
       "1     You do right, if you don't care then fuck 'em!  ed2mah1   \n",
       "2                                 Man I love reddit.  eeibobj   \n",
       "3  [NAME] was nowhere near them, he was by the Fa...  eda6yn6   \n",
       "4  Right? Considering it’s such an important docu...  eespn2i   \n",
       "\n",
       "                author            subreddit    link_id   parent_id  \\\n",
       "0                Brdd9                  nrl  t3_ajis4z  t1_eew18eq   \n",
       "1             Labalool          confessions  t3_abru74  t1_ed2m7g7   \n",
       "2        MrsRobertshaw             facepalm  t3_ahulml   t3_ahulml   \n",
       "3  American_Fascist713  starwarsspeculation  t3_ackt2f  t1_eda65q2   \n",
       "4         ImperialBoss           TrueReddit  t3_aizyuz  t1_eesoak0   \n",
       "\n",
       "   created_utc  rater_id  example_very_unclear  sentiment  sentiment_rating  \n",
       "0   1548381039         1                 False    sadness                -1  \n",
       "1   1546427744        37                 False    neutral                 0  \n",
       "2   1547965054        18                 False       love                 1  \n",
       "3   1546668601         2                 False    neutral                 0  \n",
       "4   1548280208        61                 False  gratitude                 1  "
      ],
      "text/html": "<div>\n<style scoped>\n    .dataframe tbody tr th:only-of-type {\n        vertical-align: middle;\n    }\n\n    .dataframe tbody tr th {\n        vertical-align: top;\n    }\n\n    .dataframe thead th {\n        text-align: right;\n    }\n</style>\n<table border=\"1\" class=\"dataframe\">\n  <thead>\n    <tr style=\"text-align: right;\">\n      <th></th>\n      <th>text</th>\n      <th>id</th>\n      <th>author</th>\n      <th>subreddit</th>\n      <th>link_id</th>\n      <th>parent_id</th>\n      <th>created_utc</th>\n      <th>rater_id</th>\n      <th>example_very_unclear</th>\n      <th>sentiment</th>\n      <th>sentiment_rating</th>\n    </tr>\n  </thead>\n  <tbody>\n    <tr>\n      <th>0</th>\n      <td>That game hurt.</td>\n      <td>eew5j0j</td>\n      <td>Brdd9</td>\n      <td>nrl</td>\n      <td>t3_ajis4z</td>\n      <td>t1_eew18eq</td>\n      <td>1548381039</td>\n      <td>1</td>\n      <td>False</td>\n      <td>sadness</td>\n      <td>-1</td>\n    </tr>\n    <tr>\n      <th>1</th>\n      <td>You do right, if you don't care then fuck 'em!</td>\n      <td>ed2mah1</td>\n      <td>Labalool</td>\n      <td>confessions</td>\n      <td>t3_abru74</td>\n      <td>t1_ed2m7g7</td>\n      <td>1546427744</td>\n      <td>37</td>\n      <td>False</td>\n      <td>neutral</td>\n      <td>0</td>\n    </tr>\n    <tr>\n      <th>2</th>\n      <td>Man I love reddit.</td>\n      <td>eeibobj</td>\n      <td>MrsRobertshaw</td>\n      <td>facepalm</td>\n      <td>t3_ahulml</td>\n      <td>t3_ahulml</td>\n      <td>1547965054</td>\n      <td>18</td>\n      <td>False</td>\n      <td>love</td>\n      <td>1</td>\n    </tr>\n    <tr>\n      <th>3</th>\n      <td>[NAME] was nowhere near them, he was by the Fa...</td>\n      <td>eda6yn6</td>\n      <td>American_Fascist713</td>\n      <td>starwarsspeculation</td>\n      <td>t3_ackt2f</td>\n      <td>t1_eda65q2</td>\n      <td>1546668601</td>\n      <td>2</td>\n      <td>False</td>\n      <td>neutral</td>\n      <td>0</td>\n    </tr>\n    <tr>\n      <th>4</th>\n      <td>Right? Considering it’s such an important docu...</td>\n      <td>eespn2i</td>\n      <td>ImperialBoss</td>\n      <td>TrueReddit</td>\n      <td>t3_aizyuz</td>\n      <td>t1_eesoak0</td>\n      <td>1548280208</td>\n      <td>61</td>\n      <td>False</td>\n      <td>gratitude</td>\n      <td>1</td>\n    </tr>\n  </tbody>\n</table>\n</div>"
     },
     "metadata": {},
     "execution_count": 8
    }
   ],
   "source": [
    "df['sentiment_rating'] = df['sentiment'].map(emotion_categories).map({ 'Negative': -1, \"Neutral\": 0, \"Positive\": 1})\n",
    "\n",
    "df.head()"
   ]
  },
  {
   "cell_type": "code",
   "execution_count": 9,
   "metadata": {},
   "outputs": [
    {
     "output_type": "execute_result",
     "data": {
      "text/plain": [
       "                    name   sentiment   n  group                     id\n",
       "0           2meirl4meirl     sadness  70     26           2meirl4meirl\n",
       "1                  49ers  admiration  50      1                  49ers\n",
       "2           4PanelCringe   amusement  73      2           4PanelCringe\n",
       "3            90DayFiance  admiration  76      1            90DayFiance\n",
       "4  90dayfianceuncensored    approval  63      5  90dayfianceuncensored"
      ],
      "text/html": "<div>\n<style scoped>\n    .dataframe tbody tr th:only-of-type {\n        vertical-align: middle;\n    }\n\n    .dataframe tbody tr th {\n        vertical-align: top;\n    }\n\n    .dataframe thead th {\n        text-align: right;\n    }\n</style>\n<table border=\"1\" class=\"dataframe\">\n  <thead>\n    <tr style=\"text-align: right;\">\n      <th></th>\n      <th>name</th>\n      <th>sentiment</th>\n      <th>n</th>\n      <th>group</th>\n      <th>id</th>\n    </tr>\n  </thead>\n  <tbody>\n    <tr>\n      <th>0</th>\n      <td>2meirl4meirl</td>\n      <td>sadness</td>\n      <td>70</td>\n      <td>26</td>\n      <td>2meirl4meirl</td>\n    </tr>\n    <tr>\n      <th>1</th>\n      <td>49ers</td>\n      <td>admiration</td>\n      <td>50</td>\n      <td>1</td>\n      <td>49ers</td>\n    </tr>\n    <tr>\n      <th>2</th>\n      <td>4PanelCringe</td>\n      <td>amusement</td>\n      <td>73</td>\n      <td>2</td>\n      <td>4PanelCringe</td>\n    </tr>\n    <tr>\n      <th>3</th>\n      <td>90DayFiance</td>\n      <td>admiration</td>\n      <td>76</td>\n      <td>1</td>\n      <td>90DayFiance</td>\n    </tr>\n    <tr>\n      <th>4</th>\n      <td>90dayfianceuncensored</td>\n      <td>approval</td>\n      <td>63</td>\n      <td>5</td>\n      <td>90dayfianceuncensored</td>\n    </tr>\n  </tbody>\n</table>\n</div>"
     },
     "metadata": {},
     "execution_count": 9
    }
   ],
   "source": [
    "# Get top sentiment for each subreddit\n",
    "top_sentiment_per_subreddit = df[df['sentiment'] != 'neutral'].groupby(['subreddit', 'sentiment'], as_index = False).count().sort_values(['subreddit', 'text'], ascending = False).groupby('subreddit', as_index = False).first()[['subreddit', 'sentiment', 'text']].rename(columns = { 'text': 'n', 'subreddit': 'name'})\n",
    "\n",
    "top_sentiment_per_subreddit['group'] = top_sentiment_per_subreddit['sentiment'].map(emotion_groups)\n",
    "top_sentiment_per_subreddit['id'] = top_sentiment_per_subreddit['name']\n",
    "\n",
    "top_sentiment_per_subreddit.head()"
   ]
  },
  {
   "cell_type": "code",
   "execution_count": 10,
   "metadata": {},
   "outputs": [],
   "source": [
    "nodes = top_sentiment_per_subreddit.to_dict('records')"
   ]
  },
  {
   "cell_type": "code",
   "execution_count": 31,
   "metadata": {},
   "outputs": [
    {
     "output_type": "execute_result",
     "data": {
      "text/plain": [
       "         name sentiment   n  group        id\n",
       "298  doordash  approval  45      5  doordash"
      ],
      "text/html": "<div>\n<style scoped>\n    .dataframe tbody tr th:only-of-type {\n        vertical-align: middle;\n    }\n\n    .dataframe tbody tr th {\n        vertical-align: top;\n    }\n\n    .dataframe thead th {\n        text-align: right;\n    }\n</style>\n<table border=\"1\" class=\"dataframe\">\n  <thead>\n    <tr style=\"text-align: right;\">\n      <th></th>\n      <th>name</th>\n      <th>sentiment</th>\n      <th>n</th>\n      <th>group</th>\n      <th>id</th>\n    </tr>\n  </thead>\n  <tbody>\n    <tr>\n      <th>298</th>\n      <td>doordash</td>\n      <td>approval</td>\n      <td>45</td>\n      <td>5</td>\n      <td>doordash</td>\n    </tr>\n  </tbody>\n</table>\n</div>"
     },
     "metadata": {},
     "execution_count": 31
    }
   ],
   "source": [
    "top_sentiment_per_subreddit[top_sentiment_per_subreddit['name'] == 'doordash']"
   ]
  },
  {
   "cell_type": "code",
   "execution_count": 22,
   "metadata": {},
   "outputs": [
    {
     "output_type": "execute_result",
     "data": {
      "text/plain": [
       "                                                     text       id     author  \\\n",
       "9       I have, and now that you mention it, I think t...  ed9w1hm  [deleted]   \n",
       "14                                      Build a wall? /jk  edsqvyx  [deleted]   \n",
       "108     I didn't like the family ending but I liked th...  ee6mb6z  [deleted]   \n",
       "124              My fans on patreon will be rewarded soon  ef8s6ku  [deleted]   \n",
       "181     Integrated, Antwaarps speaking, second generat...  eepltiz  [deleted]   \n",
       "...                                                   ...      ...        ...   \n",
       "249068     This post is inappropriate for this subreddit.  edau7nd  [deleted]   \n",
       "249145     This post is inappropriate for this subreddit.  edau7nd  [deleted]   \n",
       "249164     This post is inappropriate for this subreddit.  edau7nd  [deleted]   \n",
       "249199                                 Fcking disgusting.  edwux5m  [deleted]   \n",
       "249419                                 Fcking disgusting.  edwux5m  [deleted]   \n",
       "\n",
       "              subreddit    link_id   parent_id  created_utc  rater_id  \\\n",
       "9          AskMenOver30  t3_acm7f6  t1_ed9m2l0   1546658263        36   \n",
       "14         AskMenOver30  t3_aeq3ep  t1_edsn1bd   1547207519        10   \n",
       "108      assassinscreed  t3_agboi2  t1_ee6m488   1547628831        56   \n",
       "124                 nrl  t3_akwycz  t1_ef8pvmo   1548746680        33   \n",
       "181             belgium  t3_ai8u8j  t1_eem1uan   1548184008        34   \n",
       "...                 ...        ...         ...          ...       ...   \n",
       "249068   SubredditDrama  t3_acuh2o   t3_acuh2o   1546698714        39   \n",
       "249145   SubredditDrama  t3_acuh2o   t3_acuh2o   1546698714        26   \n",
       "249164   SubredditDrama  t3_acuh2o   t3_acuh2o   1546698714        37   \n",
       "249199  COMPLETEANARCHY  t3_af8jgr   t3_af8jgr   1547319348        35   \n",
       "249419  COMPLETEANARCHY  t3_af8jgr   t3_af8jgr   1547319348        76   \n",
       "\n",
       "        example_very_unclear    sentiment  sentiment_rating  \n",
       "9                      False      neutral                 0  \n",
       "14                     False      neutral                 0  \n",
       "108                    False     approval                 1  \n",
       "124                    False      neutral                 0  \n",
       "181                    False      disgust                -1  \n",
       "...                      ...          ...               ...  \n",
       "249068                 False  disapproval                -1  \n",
       "249145                 False  disapproval                -1  \n",
       "249164                 False  realization                 0  \n",
       "249199                 False      disgust                -1  \n",
       "249419                 False      disgust                -1  \n",
       "\n",
       "[4601 rows x 11 columns]"
      ],
      "text/html": "<div>\n<style scoped>\n    .dataframe tbody tr th:only-of-type {\n        vertical-align: middle;\n    }\n\n    .dataframe tbody tr th {\n        vertical-align: top;\n    }\n\n    .dataframe thead th {\n        text-align: right;\n    }\n</style>\n<table border=\"1\" class=\"dataframe\">\n  <thead>\n    <tr style=\"text-align: right;\">\n      <th></th>\n      <th>text</th>\n      <th>id</th>\n      <th>author</th>\n      <th>subreddit</th>\n      <th>link_id</th>\n      <th>parent_id</th>\n      <th>created_utc</th>\n      <th>rater_id</th>\n      <th>example_very_unclear</th>\n      <th>sentiment</th>\n      <th>sentiment_rating</th>\n    </tr>\n  </thead>\n  <tbody>\n    <tr>\n      <th>9</th>\n      <td>I have, and now that you mention it, I think t...</td>\n      <td>ed9w1hm</td>\n      <td>[deleted]</td>\n      <td>AskMenOver30</td>\n      <td>t3_acm7f6</td>\n      <td>t1_ed9m2l0</td>\n      <td>1546658263</td>\n      <td>36</td>\n      <td>False</td>\n      <td>neutral</td>\n      <td>0</td>\n    </tr>\n    <tr>\n      <th>14</th>\n      <td>Build a wall? /jk</td>\n      <td>edsqvyx</td>\n      <td>[deleted]</td>\n      <td>AskMenOver30</td>\n      <td>t3_aeq3ep</td>\n      <td>t1_edsn1bd</td>\n      <td>1547207519</td>\n      <td>10</td>\n      <td>False</td>\n      <td>neutral</td>\n      <td>0</td>\n    </tr>\n    <tr>\n      <th>108</th>\n      <td>I didn't like the family ending but I liked th...</td>\n      <td>ee6mb6z</td>\n      <td>[deleted]</td>\n      <td>assassinscreed</td>\n      <td>t3_agboi2</td>\n      <td>t1_ee6m488</td>\n      <td>1547628831</td>\n      <td>56</td>\n      <td>False</td>\n      <td>approval</td>\n      <td>1</td>\n    </tr>\n    <tr>\n      <th>124</th>\n      <td>My fans on patreon will be rewarded soon</td>\n      <td>ef8s6ku</td>\n      <td>[deleted]</td>\n      <td>nrl</td>\n      <td>t3_akwycz</td>\n      <td>t1_ef8pvmo</td>\n      <td>1548746680</td>\n      <td>33</td>\n      <td>False</td>\n      <td>neutral</td>\n      <td>0</td>\n    </tr>\n    <tr>\n      <th>181</th>\n      <td>Integrated, Antwaarps speaking, second generat...</td>\n      <td>eepltiz</td>\n      <td>[deleted]</td>\n      <td>belgium</td>\n      <td>t3_ai8u8j</td>\n      <td>t1_eem1uan</td>\n      <td>1548184008</td>\n      <td>34</td>\n      <td>False</td>\n      <td>disgust</td>\n      <td>-1</td>\n    </tr>\n    <tr>\n      <th>...</th>\n      <td>...</td>\n      <td>...</td>\n      <td>...</td>\n      <td>...</td>\n      <td>...</td>\n      <td>...</td>\n      <td>...</td>\n      <td>...</td>\n      <td>...</td>\n      <td>...</td>\n      <td>...</td>\n    </tr>\n    <tr>\n      <th>249068</th>\n      <td>This post is inappropriate for this subreddit.</td>\n      <td>edau7nd</td>\n      <td>[deleted]</td>\n      <td>SubredditDrama</td>\n      <td>t3_acuh2o</td>\n      <td>t3_acuh2o</td>\n      <td>1546698714</td>\n      <td>39</td>\n      <td>False</td>\n      <td>disapproval</td>\n      <td>-1</td>\n    </tr>\n    <tr>\n      <th>249145</th>\n      <td>This post is inappropriate for this subreddit.</td>\n      <td>edau7nd</td>\n      <td>[deleted]</td>\n      <td>SubredditDrama</td>\n      <td>t3_acuh2o</td>\n      <td>t3_acuh2o</td>\n      <td>1546698714</td>\n      <td>26</td>\n      <td>False</td>\n      <td>disapproval</td>\n      <td>-1</td>\n    </tr>\n    <tr>\n      <th>249164</th>\n      <td>This post is inappropriate for this subreddit.</td>\n      <td>edau7nd</td>\n      <td>[deleted]</td>\n      <td>SubredditDrama</td>\n      <td>t3_acuh2o</td>\n      <td>t3_acuh2o</td>\n      <td>1546698714</td>\n      <td>37</td>\n      <td>False</td>\n      <td>realization</td>\n      <td>0</td>\n    </tr>\n    <tr>\n      <th>249199</th>\n      <td>Fcking disgusting.</td>\n      <td>edwux5m</td>\n      <td>[deleted]</td>\n      <td>COMPLETEANARCHY</td>\n      <td>t3_af8jgr</td>\n      <td>t3_af8jgr</td>\n      <td>1547319348</td>\n      <td>35</td>\n      <td>False</td>\n      <td>disgust</td>\n      <td>-1</td>\n    </tr>\n    <tr>\n      <th>249419</th>\n      <td>Fcking disgusting.</td>\n      <td>edwux5m</td>\n      <td>[deleted]</td>\n      <td>COMPLETEANARCHY</td>\n      <td>t3_af8jgr</td>\n      <td>t3_af8jgr</td>\n      <td>1547319348</td>\n      <td>76</td>\n      <td>False</td>\n      <td>disgust</td>\n      <td>-1</td>\n    </tr>\n  </tbody>\n</table>\n<p>4601 rows × 11 columns</p>\n</div>"
     },
     "metadata": {},
     "execution_count": 22
    }
   ],
   "source": [
    "df[df['author'] == '[deleted]']"
   ]
  },
  {
   "cell_type": "code",
   "execution_count": 32,
   "metadata": {},
   "outputs": [
    {
     "output_type": "stream",
     "name": "stdout",
     "text": [
      "249528 / 244928\n"
     ]
    }
   ],
   "source": [
    "# graph links\n",
    "links_data = []\n",
    "df_clean = df[df['author'] != '[deleted]']\n",
    "for index, row in df_clean.iterrows():\n",
    "    author = row['author']\n",
    "    other_posts = df_clean[(df_clean['id'] != row['id']) & (df_clean['author'] == author)]\n",
    "    other_subreddits = list(set(other_posts['subreddit']))\n",
    "    for subreddit in other_subreddits:\n",
    "        links_data.append({ 'source': row['subreddit'], 'target': subreddit, 'count': 1, 'author': author})\n",
    "    \n",
    "    clear_output()\n",
    "    print(index, \"/\", len(df_clean))\n"
   ]
  },
  {
   "cell_type": "code",
   "execution_count": 28,
   "metadata": {},
   "outputs": [
    {
     "output_type": "execute_result",
     "data": {
      "text/plain": [
       "      source           target  count                author\n",
       "627   Advice         nononono      1          Daymandayman\n",
       "872   Advice      TheSimpsons      1      createusername32\n",
       "873   Advice      TheSimpsons      1      createusername32\n",
       "1028  Advice           Advice      1     theshinyspacelord\n",
       "1685  Advice            korea      1           Steffy_love\n",
       "2396  Advice         doordash      1  BlowingSmokeUpYourAs\n",
       "2850  Advice         nononono      1          Daymandayman\n",
       "3041  Advice  DoesAnybodyElse      1          haramishirin\n",
       "3042  Advice  DoesAnybodyElse      1          haramishirin\n",
       "3043  Advice  DoesAnybodyElse      1          haramishirin\n",
       "4216  Advice     changemyview      1                 br094\n",
       "4217  Advice  morbidquestions      1                 br094\n",
       "4218  Advice     changemyview      1                 br094\n",
       "4219  Advice  morbidquestions      1                 br094\n",
       "4256  Advice       confession      1                Cazken\n",
       "4264  Advice         doordash      1  BlowingSmokeUpYourAs\n",
       "4265  Advice         doordash      1  BlowingSmokeUpYourAs"
      ],
      "text/html": "<div>\n<style scoped>\n    .dataframe tbody tr th:only-of-type {\n        vertical-align: middle;\n    }\n\n    .dataframe tbody tr th {\n        vertical-align: top;\n    }\n\n    .dataframe thead th {\n        text-align: right;\n    }\n</style>\n<table border=\"1\" class=\"dataframe\">\n  <thead>\n    <tr style=\"text-align: right;\">\n      <th></th>\n      <th>source</th>\n      <th>target</th>\n      <th>count</th>\n      <th>author</th>\n    </tr>\n  </thead>\n  <tbody>\n    <tr>\n      <th>627</th>\n      <td>Advice</td>\n      <td>nononono</td>\n      <td>1</td>\n      <td>Daymandayman</td>\n    </tr>\n    <tr>\n      <th>872</th>\n      <td>Advice</td>\n      <td>TheSimpsons</td>\n      <td>1</td>\n      <td>createusername32</td>\n    </tr>\n    <tr>\n      <th>873</th>\n      <td>Advice</td>\n      <td>TheSimpsons</td>\n      <td>1</td>\n      <td>createusername32</td>\n    </tr>\n    <tr>\n      <th>1028</th>\n      <td>Advice</td>\n      <td>Advice</td>\n      <td>1</td>\n      <td>theshinyspacelord</td>\n    </tr>\n    <tr>\n      <th>1685</th>\n      <td>Advice</td>\n      <td>korea</td>\n      <td>1</td>\n      <td>Steffy_love</td>\n    </tr>\n    <tr>\n      <th>2396</th>\n      <td>Advice</td>\n      <td>doordash</td>\n      <td>1</td>\n      <td>BlowingSmokeUpYourAs</td>\n    </tr>\n    <tr>\n      <th>2850</th>\n      <td>Advice</td>\n      <td>nononono</td>\n      <td>1</td>\n      <td>Daymandayman</td>\n    </tr>\n    <tr>\n      <th>3041</th>\n      <td>Advice</td>\n      <td>DoesAnybodyElse</td>\n      <td>1</td>\n      <td>haramishirin</td>\n    </tr>\n    <tr>\n      <th>3042</th>\n      <td>Advice</td>\n      <td>DoesAnybodyElse</td>\n      <td>1</td>\n      <td>haramishirin</td>\n    </tr>\n    <tr>\n      <th>3043</th>\n      <td>Advice</td>\n      <td>DoesAnybodyElse</td>\n      <td>1</td>\n      <td>haramishirin</td>\n    </tr>\n    <tr>\n      <th>4216</th>\n      <td>Advice</td>\n      <td>changemyview</td>\n      <td>1</td>\n      <td>br094</td>\n    </tr>\n    <tr>\n      <th>4217</th>\n      <td>Advice</td>\n      <td>morbidquestions</td>\n      <td>1</td>\n      <td>br094</td>\n    </tr>\n    <tr>\n      <th>4218</th>\n      <td>Advice</td>\n      <td>changemyview</td>\n      <td>1</td>\n      <td>br094</td>\n    </tr>\n    <tr>\n      <th>4219</th>\n      <td>Advice</td>\n      <td>morbidquestions</td>\n      <td>1</td>\n      <td>br094</td>\n    </tr>\n    <tr>\n      <th>4256</th>\n      <td>Advice</td>\n      <td>confession</td>\n      <td>1</td>\n      <td>Cazken</td>\n    </tr>\n    <tr>\n      <th>4264</th>\n      <td>Advice</td>\n      <td>doordash</td>\n      <td>1</td>\n      <td>BlowingSmokeUpYourAs</td>\n    </tr>\n    <tr>\n      <th>4265</th>\n      <td>Advice</td>\n      <td>doordash</td>\n      <td>1</td>\n      <td>BlowingSmokeUpYourAs</td>\n    </tr>\n  </tbody>\n</table>\n</div>"
     },
     "metadata": {},
     "execution_count": 28
    }
   ],
   "source": [
    "test = pd.DataFrame(links_data)\n",
    "test[test['source'] == 'Advice']"
   ]
  },
  {
   "cell_type": "code",
   "execution_count": 11,
   "metadata": {},
   "outputs": [],
   "source": [
    "from IPython.display import clear_output"
   ]
  },
  {
   "cell_type": "code",
   "execution_count": 39,
   "metadata": {},
   "outputs": [
    {
     "output_type": "execute_result",
     "data": {
      "text/plain": [
       "       source           target  value\n",
       "3169  atheism  DebateAnAtheist      1\n",
       "3184  atheism          atheism      1\n",
       "3188  atheism      exchristian      1\n",
       "3193  atheism  loveafterlockup      1\n",
       "3164  atheism            ATBGE      1\n",
       "3165  atheism        Anarchism      1\n",
       "3166  atheism  BetterEveryLoop      1\n",
       "3167  atheism  ChoosingBeggars      1\n",
       "3168  atheism     Christianity      1\n",
       "3170  atheism           Denver      1\n",
       "3171  atheism      DevilMayCry      1\n",
       "3172  atheism  HumansBeingBros      1\n",
       "3173  atheism       IncelTears      1\n",
       "3174  atheism       LosAngeles      1\n",
       "3175  atheism         MkeBucks      1\n",
       "3176  atheism        NYYankees      1\n",
       "3177  atheism       ProRevenge      1\n",
       "3178  atheism       QuadrigaCX      1\n",
       "3179  atheism      SoulCalibur      1\n",
       "3180  atheism         ToolBand      1"
      ],
      "text/html": "<div>\n<style scoped>\n    .dataframe tbody tr th:only-of-type {\n        vertical-align: middle;\n    }\n\n    .dataframe tbody tr th {\n        vertical-align: top;\n    }\n\n    .dataframe thead th {\n        text-align: right;\n    }\n</style>\n<table border=\"1\" class=\"dataframe\">\n  <thead>\n    <tr style=\"text-align: right;\">\n      <th></th>\n      <th>source</th>\n      <th>target</th>\n      <th>value</th>\n    </tr>\n  </thead>\n  <tbody>\n    <tr>\n      <th>3169</th>\n      <td>atheism</td>\n      <td>DebateAnAtheist</td>\n      <td>1</td>\n    </tr>\n    <tr>\n      <th>3184</th>\n      <td>atheism</td>\n      <td>atheism</td>\n      <td>1</td>\n    </tr>\n    <tr>\n      <th>3188</th>\n      <td>atheism</td>\n      <td>exchristian</td>\n      <td>1</td>\n    </tr>\n    <tr>\n      <th>3193</th>\n      <td>atheism</td>\n      <td>loveafterlockup</td>\n      <td>1</td>\n    </tr>\n    <tr>\n      <th>3164</th>\n      <td>atheism</td>\n      <td>ATBGE</td>\n      <td>1</td>\n    </tr>\n    <tr>\n      <th>3165</th>\n      <td>atheism</td>\n      <td>Anarchism</td>\n      <td>1</td>\n    </tr>\n    <tr>\n      <th>3166</th>\n      <td>atheism</td>\n      <td>BetterEveryLoop</td>\n      <td>1</td>\n    </tr>\n    <tr>\n      <th>3167</th>\n      <td>atheism</td>\n      <td>ChoosingBeggars</td>\n      <td>1</td>\n    </tr>\n    <tr>\n      <th>3168</th>\n      <td>atheism</td>\n      <td>Christianity</td>\n      <td>1</td>\n    </tr>\n    <tr>\n      <th>3170</th>\n      <td>atheism</td>\n      <td>Denver</td>\n      <td>1</td>\n    </tr>\n    <tr>\n      <th>3171</th>\n      <td>atheism</td>\n      <td>DevilMayCry</td>\n      <td>1</td>\n    </tr>\n    <tr>\n      <th>3172</th>\n      <td>atheism</td>\n      <td>HumansBeingBros</td>\n      <td>1</td>\n    </tr>\n    <tr>\n      <th>3173</th>\n      <td>atheism</td>\n      <td>IncelTears</td>\n      <td>1</td>\n    </tr>\n    <tr>\n      <th>3174</th>\n      <td>atheism</td>\n      <td>LosAngeles</td>\n      <td>1</td>\n    </tr>\n    <tr>\n      <th>3175</th>\n      <td>atheism</td>\n      <td>MkeBucks</td>\n      <td>1</td>\n    </tr>\n    <tr>\n      <th>3176</th>\n      <td>atheism</td>\n      <td>NYYankees</td>\n      <td>1</td>\n    </tr>\n    <tr>\n      <th>3177</th>\n      <td>atheism</td>\n      <td>ProRevenge</td>\n      <td>1</td>\n    </tr>\n    <tr>\n      <th>3178</th>\n      <td>atheism</td>\n      <td>QuadrigaCX</td>\n      <td>1</td>\n    </tr>\n    <tr>\n      <th>3179</th>\n      <td>atheism</td>\n      <td>SoulCalibur</td>\n      <td>1</td>\n    </tr>\n    <tr>\n      <th>3180</th>\n      <td>atheism</td>\n      <td>ToolBand</td>\n      <td>1</td>\n    </tr>\n  </tbody>\n</table>\n</div>"
     },
     "metadata": {},
     "execution_count": 39
    }
   ],
   "source": [
    "links_df[links_df['source'] == 'atheism']"
   ]
  },
  {
   "cell_type": "code",
   "execution_count": 38,
   "metadata": {},
   "outputs": [
    {
     "output_type": "execute_result",
     "data": {
      "text/plain": [
       "            source              target  value\n",
       "6159  youtubehaiku               DiWHY      1\n",
       "6160  youtubehaiku      KotakuInAction      1\n",
       "6161  youtubehaiku      SubredditDrama      1\n",
       "6162  youtubehaiku  WhitePeopleTwitter      1\n",
       "6163  youtubehaiku             antiMLM      1"
      ],
      "text/html": "<div>\n<style scoped>\n    .dataframe tbody tr th:only-of-type {\n        vertical-align: middle;\n    }\n\n    .dataframe tbody tr th {\n        vertical-align: top;\n    }\n\n    .dataframe thead th {\n        text-align: right;\n    }\n</style>\n<table border=\"1\" class=\"dataframe\">\n  <thead>\n    <tr style=\"text-align: right;\">\n      <th></th>\n      <th>source</th>\n      <th>target</th>\n      <th>value</th>\n    </tr>\n  </thead>\n  <tbody>\n    <tr>\n      <th>6159</th>\n      <td>youtubehaiku</td>\n      <td>DiWHY</td>\n      <td>1</td>\n    </tr>\n    <tr>\n      <th>6160</th>\n      <td>youtubehaiku</td>\n      <td>KotakuInAction</td>\n      <td>1</td>\n    </tr>\n    <tr>\n      <th>6161</th>\n      <td>youtubehaiku</td>\n      <td>SubredditDrama</td>\n      <td>1</td>\n    </tr>\n    <tr>\n      <th>6162</th>\n      <td>youtubehaiku</td>\n      <td>WhitePeopleTwitter</td>\n      <td>1</td>\n    </tr>\n    <tr>\n      <th>6163</th>\n      <td>youtubehaiku</td>\n      <td>antiMLM</td>\n      <td>1</td>\n    </tr>\n  </tbody>\n</table>\n</div>"
     },
     "metadata": {},
     "execution_count": 38
    }
   ],
   "source": [
    "links_df = pd.DataFrame(links_data).drop_duplicates(subset = ['source', 'target', 'author'], keep = \"first\").groupby(['source', 'target'], as_index = False).count().sort_values(['source', 'count'], ascending = False).groupby(['source'], as_index = False).head(20)[['source', 'target']]\n",
    "\n",
    "links_df['value'] = 1\n",
    "\n",
    "links_df.head()"
   ]
  },
  {
   "cell_type": "code",
   "execution_count": 40,
   "metadata": {},
   "outputs": [],
   "source": [
    "links = links_df.to_dict('records')"
   ]
  },
  {
   "cell_type": "code",
   "execution_count": 41,
   "metadata": {},
   "outputs": [],
   "source": [
    "arc_diagram_graph = {\n",
    "    'nodes': nodes,\n",
    "    'links': links\n",
    "}\n",
    "\n",
    "with open('arc-data.json', 'w') as fout:\n",
    "    json.dump(arc_diagram_graph , fout)"
   ]
  },
  {
   "cell_type": "code",
   "execution_count": 62,
   "metadata": {},
   "outputs": [],
   "source": [
    "# For Network graph\n",
    "df_users = df[['author', 'rater_id', 'subreddit', 'sentiment_rating']]\n",
    "user_nodes = df_users.groupby(['author'], as_index = False).agg({ 'sentiment_rating': 'mean', 'subreddit': 'nunique'}).rename(columns = {'subreddit': 'connections', 'author': 'name'})\n",
    "user_nodes['type'] = 'user'\n",
    "user_nodes = user_nodes.to_dict('records')\n",
    "\n",
    "subreddit_nodes = df_users.groupby(['subreddit'], as_index = False).agg({ 'sentiment_rating': 'mean', 'author': 'nunique'}).rename(columns = {'author': 'connections', 'subreddit': 'name'})\n",
    "subreddit_nodes['type'] = 'subreddit'\n",
    "subreddit_nodes = subreddit_nodes.to_dict('records')\n",
    "\n",
    "with open('nodes.json', 'w') as fout:\n",
    "    json.dump(user_nodes + subreddit_nodes , fout)"
   ]
  },
  {
   "cell_type": "code",
   "execution_count": 68,
   "metadata": {},
   "outputs": [],
   "source": [
    "authors_and_subreddits = df_users[['author', \"subreddit\"]].drop_duplicates(keep = \"first\")\n",
    "subreddits = authors_and_subreddits['subreddit'].drop_duplicates(keep = \"first\")\n",
    "\n",
    "links = []\n",
    "\n",
    "for subreddit in subreddits:\n",
    "    authors = authors_and_subreddits[authors_and_subreddits['subreddit'] == subreddit]['author'].to_list()\n",
    "    for author in authors:\n",
    "        links.append({ 'source': subreddit, 'target': author})\n",
    "\n",
    "with open('links.json', 'w') as fout:\n",
    "    json.dump(links , fout)"
   ]
  },
  {
   "cell_type": "code",
   "execution_count": 67,
   "metadata": {},
   "outputs": [
    {
     "output_type": "execute_result",
     "data": {
      "text/plain": [
       "51833"
      ]
     },
     "metadata": {},
     "execution_count": 67
    }
   ],
   "source": [
    "len(links)"
   ]
  },
  {
   "cell_type": "code",
   "execution_count": 56,
   "metadata": {},
   "outputs": [
    {
     "output_type": "execute_result",
     "data": {
      "text/plain": [
       "49150"
      ]
     },
     "metadata": {},
     "execution_count": 56
    }
   ],
   "source": [
    "len(authors)"
   ]
  },
  {
   "cell_type": "code",
   "execution_count": 14,
   "metadata": {},
   "outputs": [],
   "source": [
    "df = df_raw.groupby(['id', 'subreddit', 'text'])[emotions_cols].sum().reset_index() # Aggregates by post"
   ]
  },
  {
   "cell_type": "code",
   "execution_count": 6,
   "metadata": {},
   "outputs": [
    {
     "data": {
      "text/plain": [
       "\"\\ndf['max_val'] = df[emotions_cols].max(axis=1)\\nfor col in emotions_cols:\\n    df[col] = df[col] - df['max_val']\\ndel df['max_val']\\ndf_new = (df.melt(['id', 'subreddit'], var_name='emotion').query('value >= 0')\\n       .groupby(['id', 'subreddit'])['emotion']\\n       .apply(', '.join)\\n       .reset_index())\\ndf_grouped = df_new.groupby(['subreddit', 'emotion']).count().reset_index()\\n\""
      ]
     },
     "execution_count": 6,
     "metadata": {},
     "output_type": "execute_result"
    }
   ],
   "source": [
    "# Only keeps emotion(s) with the most votes for each post\n",
    "\"\"\"\n",
    "df['max_val'] = df[emotions_cols].max(axis=1)\n",
    "for col in emotions_cols:\n",
    "    df[col] = df[col] - df['max_val']\n",
    "del df['max_val']\n",
    "df_new = (df.melt(['id', 'subreddit'], var_name='emotion').query('value >= 0')\n",
    "       .groupby(['id', 'subreddit'])['emotion']\n",
    "       .apply(', '.join)\n",
    "       .reset_index())\n",
    "df_grouped = df_new.groupby(['subreddit', 'emotion']).count().reset_index()\n",
    "\"\"\""
   ]
  },
  {
   "cell_type": "code",
   "execution_count": 15,
   "metadata": {},
   "outputs": [
    {
     "data": {
      "text/html": [
       "<div>\n",
       "<style scoped>\n",
       "    .dataframe tbody tr th:only-of-type {\n",
       "        vertical-align: middle;\n",
       "    }\n",
       "\n",
       "    .dataframe tbody tr th {\n",
       "        vertical-align: top;\n",
       "    }\n",
       "\n",
       "    .dataframe thead th {\n",
       "        text-align: right;\n",
       "    }\n",
       "</style>\n",
       "<table border=\"1\" class=\"dataframe\">\n",
       "  <thead>\n",
       "    <tr style=\"text-align: right;\">\n",
       "      <th></th>\n",
       "      <th>id</th>\n",
       "      <th>text</th>\n",
       "      <th>admiration</th>\n",
       "      <th>amusement</th>\n",
       "      <th>anger</th>\n",
       "      <th>annoyance</th>\n",
       "      <th>approval</th>\n",
       "      <th>caring</th>\n",
       "      <th>confusion</th>\n",
       "      <th>curiosity</th>\n",
       "      <th>...</th>\n",
       "      <th>love</th>\n",
       "      <th>nervousness</th>\n",
       "      <th>optimism</th>\n",
       "      <th>pride</th>\n",
       "      <th>realization</th>\n",
       "      <th>relief</th>\n",
       "      <th>remorse</th>\n",
       "      <th>sadness</th>\n",
       "      <th>surprise</th>\n",
       "      <th>neutral</th>\n",
       "    </tr>\n",
       "    <tr>\n",
       "      <th>subreddit</th>\n",
       "      <th></th>\n",
       "      <th></th>\n",
       "      <th></th>\n",
       "      <th></th>\n",
       "      <th></th>\n",
       "      <th></th>\n",
       "      <th></th>\n",
       "      <th></th>\n",
       "      <th></th>\n",
       "      <th></th>\n",
       "      <th></th>\n",
       "      <th></th>\n",
       "      <th></th>\n",
       "      <th></th>\n",
       "      <th></th>\n",
       "      <th></th>\n",
       "      <th></th>\n",
       "      <th></th>\n",
       "      <th></th>\n",
       "      <th></th>\n",
       "      <th></th>\n",
       "    </tr>\n",
       "  </thead>\n",
       "  <tbody>\n",
       "    <tr>\n",
       "      <th>farcry</th>\n",
       "      <td>25</td>\n",
       "      <td>25</td>\n",
       "      <td>25</td>\n",
       "      <td>25</td>\n",
       "      <td>25</td>\n",
       "      <td>25</td>\n",
       "      <td>25</td>\n",
       "      <td>25</td>\n",
       "      <td>25</td>\n",
       "      <td>25</td>\n",
       "      <td>...</td>\n",
       "      <td>25</td>\n",
       "      <td>25</td>\n",
       "      <td>25</td>\n",
       "      <td>25</td>\n",
       "      <td>25</td>\n",
       "      <td>25</td>\n",
       "      <td>25</td>\n",
       "      <td>25</td>\n",
       "      <td>25</td>\n",
       "      <td>25</td>\n",
       "    </tr>\n",
       "    <tr>\n",
       "      <th>shieldbro</th>\n",
       "      <td>32</td>\n",
       "      <td>32</td>\n",
       "      <td>32</td>\n",
       "      <td>32</td>\n",
       "      <td>32</td>\n",
       "      <td>32</td>\n",
       "      <td>32</td>\n",
       "      <td>32</td>\n",
       "      <td>32</td>\n",
       "      <td>32</td>\n",
       "      <td>...</td>\n",
       "      <td>32</td>\n",
       "      <td>32</td>\n",
       "      <td>32</td>\n",
       "      <td>32</td>\n",
       "      <td>32</td>\n",
       "      <td>32</td>\n",
       "      <td>32</td>\n",
       "      <td>32</td>\n",
       "      <td>32</td>\n",
       "      <td>32</td>\n",
       "    </tr>\n",
       "    <tr>\n",
       "      <th>Anticonsumption</th>\n",
       "      <td>34</td>\n",
       "      <td>34</td>\n",
       "      <td>34</td>\n",
       "      <td>34</td>\n",
       "      <td>34</td>\n",
       "      <td>34</td>\n",
       "      <td>34</td>\n",
       "      <td>34</td>\n",
       "      <td>34</td>\n",
       "      <td>34</td>\n",
       "      <td>...</td>\n",
       "      <td>34</td>\n",
       "      <td>34</td>\n",
       "      <td>34</td>\n",
       "      <td>34</td>\n",
       "      <td>34</td>\n",
       "      <td>34</td>\n",
       "      <td>34</td>\n",
       "      <td>34</td>\n",
       "      <td>34</td>\n",
       "      <td>34</td>\n",
       "    </tr>\n",
       "    <tr>\n",
       "      <th>SSBM</th>\n",
       "      <td>35</td>\n",
       "      <td>35</td>\n",
       "      <td>35</td>\n",
       "      <td>35</td>\n",
       "      <td>35</td>\n",
       "      <td>35</td>\n",
       "      <td>35</td>\n",
       "      <td>35</td>\n",
       "      <td>35</td>\n",
       "      <td>35</td>\n",
       "      <td>...</td>\n",
       "      <td>35</td>\n",
       "      <td>35</td>\n",
       "      <td>35</td>\n",
       "      <td>35</td>\n",
       "      <td>35</td>\n",
       "      <td>35</td>\n",
       "      <td>35</td>\n",
       "      <td>35</td>\n",
       "      <td>35</td>\n",
       "      <td>35</td>\n",
       "    </tr>\n",
       "    <tr>\n",
       "      <th>darknet</th>\n",
       "      <td>38</td>\n",
       "      <td>38</td>\n",
       "      <td>38</td>\n",
       "      <td>38</td>\n",
       "      <td>38</td>\n",
       "      <td>38</td>\n",
       "      <td>38</td>\n",
       "      <td>38</td>\n",
       "      <td>38</td>\n",
       "      <td>38</td>\n",
       "      <td>...</td>\n",
       "      <td>38</td>\n",
       "      <td>38</td>\n",
       "      <td>38</td>\n",
       "      <td>38</td>\n",
       "      <td>38</td>\n",
       "      <td>38</td>\n",
       "      <td>38</td>\n",
       "      <td>38</td>\n",
       "      <td>38</td>\n",
       "      <td>38</td>\n",
       "    </tr>\n",
       "    <tr>\n",
       "      <th>...</th>\n",
       "      <td>...</td>\n",
       "      <td>...</td>\n",
       "      <td>...</td>\n",
       "      <td>...</td>\n",
       "      <td>...</td>\n",
       "      <td>...</td>\n",
       "      <td>...</td>\n",
       "      <td>...</td>\n",
       "      <td>...</td>\n",
       "      <td>...</td>\n",
       "      <td>...</td>\n",
       "      <td>...</td>\n",
       "      <td>...</td>\n",
       "      <td>...</td>\n",
       "      <td>...</td>\n",
       "      <td>...</td>\n",
       "      <td>...</td>\n",
       "      <td>...</td>\n",
       "      <td>...</td>\n",
       "      <td>...</td>\n",
       "      <td>...</td>\n",
       "    </tr>\n",
       "    <tr>\n",
       "      <th>vanderpumprules</th>\n",
       "      <td>221</td>\n",
       "      <td>221</td>\n",
       "      <td>221</td>\n",
       "      <td>221</td>\n",
       "      <td>221</td>\n",
       "      <td>221</td>\n",
       "      <td>221</td>\n",
       "      <td>221</td>\n",
       "      <td>221</td>\n",
       "      <td>221</td>\n",
       "      <td>...</td>\n",
       "      <td>221</td>\n",
       "      <td>221</td>\n",
       "      <td>221</td>\n",
       "      <td>221</td>\n",
       "      <td>221</td>\n",
       "      <td>221</td>\n",
       "      <td>221</td>\n",
       "      <td>221</td>\n",
       "      <td>221</td>\n",
       "      <td>221</td>\n",
       "    </tr>\n",
       "    <tr>\n",
       "      <th>AnimalsBeingBros</th>\n",
       "      <td>231</td>\n",
       "      <td>231</td>\n",
       "      <td>231</td>\n",
       "      <td>231</td>\n",
       "      <td>231</td>\n",
       "      <td>231</td>\n",
       "      <td>231</td>\n",
       "      <td>231</td>\n",
       "      <td>231</td>\n",
       "      <td>231</td>\n",
       "      <td>...</td>\n",
       "      <td>231</td>\n",
       "      <td>231</td>\n",
       "      <td>231</td>\n",
       "      <td>231</td>\n",
       "      <td>231</td>\n",
       "      <td>231</td>\n",
       "      <td>231</td>\n",
       "      <td>231</td>\n",
       "      <td>231</td>\n",
       "      <td>231</td>\n",
       "    </tr>\n",
       "    <tr>\n",
       "      <th>socialanxiety</th>\n",
       "      <td>232</td>\n",
       "      <td>232</td>\n",
       "      <td>232</td>\n",
       "      <td>232</td>\n",
       "      <td>232</td>\n",
       "      <td>232</td>\n",
       "      <td>232</td>\n",
       "      <td>232</td>\n",
       "      <td>232</td>\n",
       "      <td>232</td>\n",
       "      <td>...</td>\n",
       "      <td>232</td>\n",
       "      <td>232</td>\n",
       "      <td>232</td>\n",
       "      <td>232</td>\n",
       "      <td>232</td>\n",
       "      <td>232</td>\n",
       "      <td>232</td>\n",
       "      <td>232</td>\n",
       "      <td>232</td>\n",
       "      <td>232</td>\n",
       "    </tr>\n",
       "    <tr>\n",
       "      <th>cringe</th>\n",
       "      <td>239</td>\n",
       "      <td>239</td>\n",
       "      <td>239</td>\n",
       "      <td>239</td>\n",
       "      <td>239</td>\n",
       "      <td>239</td>\n",
       "      <td>239</td>\n",
       "      <td>239</td>\n",
       "      <td>239</td>\n",
       "      <td>239</td>\n",
       "      <td>...</td>\n",
       "      <td>239</td>\n",
       "      <td>239</td>\n",
       "      <td>239</td>\n",
       "      <td>239</td>\n",
       "      <td>239</td>\n",
       "      <td>239</td>\n",
       "      <td>239</td>\n",
       "      <td>239</td>\n",
       "      <td>239</td>\n",
       "      <td>239</td>\n",
       "    </tr>\n",
       "    <tr>\n",
       "      <th>loveafterlockup</th>\n",
       "      <td>241</td>\n",
       "      <td>241</td>\n",
       "      <td>241</td>\n",
       "      <td>241</td>\n",
       "      <td>241</td>\n",
       "      <td>241</td>\n",
       "      <td>241</td>\n",
       "      <td>241</td>\n",
       "      <td>241</td>\n",
       "      <td>241</td>\n",
       "      <td>...</td>\n",
       "      <td>241</td>\n",
       "      <td>241</td>\n",
       "      <td>241</td>\n",
       "      <td>241</td>\n",
       "      <td>241</td>\n",
       "      <td>241</td>\n",
       "      <td>241</td>\n",
       "      <td>241</td>\n",
       "      <td>241</td>\n",
       "      <td>241</td>\n",
       "    </tr>\n",
       "  </tbody>\n",
       "</table>\n",
       "<p>483 rows × 30 columns</p>\n",
       "</div>"
      ],
      "text/plain": [
       "                   id  text  admiration  amusement  anger  annoyance  \\\n",
       "subreddit                                                              \n",
       "farcry             25    25          25         25     25         25   \n",
       "shieldbro          32    32          32         32     32         32   \n",
       "Anticonsumption    34    34          34         34     34         34   \n",
       "SSBM               35    35          35         35     35         35   \n",
       "darknet            38    38          38         38     38         38   \n",
       "...               ...   ...         ...        ...    ...        ...   \n",
       "vanderpumprules   221   221         221        221    221        221   \n",
       "AnimalsBeingBros  231   231         231        231    231        231   \n",
       "socialanxiety     232   232         232        232    232        232   \n",
       "cringe            239   239         239        239    239        239   \n",
       "loveafterlockup   241   241         241        241    241        241   \n",
       "\n",
       "                  approval  caring  confusion  curiosity  ...  love  \\\n",
       "subreddit                                                 ...         \n",
       "farcry                  25      25         25         25  ...    25   \n",
       "shieldbro               32      32         32         32  ...    32   \n",
       "Anticonsumption         34      34         34         34  ...    34   \n",
       "SSBM                    35      35         35         35  ...    35   \n",
       "darknet                 38      38         38         38  ...    38   \n",
       "...                    ...     ...        ...        ...  ...   ...   \n",
       "vanderpumprules        221     221        221        221  ...   221   \n",
       "AnimalsBeingBros       231     231        231        231  ...   231   \n",
       "socialanxiety          232     232        232        232  ...   232   \n",
       "cringe                 239     239        239        239  ...   239   \n",
       "loveafterlockup        241     241        241        241  ...   241   \n",
       "\n",
       "                  nervousness  optimism  pride  realization  relief  remorse  \\\n",
       "subreddit                                                                      \n",
       "farcry                     25        25     25           25      25       25   \n",
       "shieldbro                  32        32     32           32      32       32   \n",
       "Anticonsumption            34        34     34           34      34       34   \n",
       "SSBM                       35        35     35           35      35       35   \n",
       "darknet                    38        38     38           38      38       38   \n",
       "...                       ...       ...    ...          ...     ...      ...   \n",
       "vanderpumprules           221       221    221          221     221      221   \n",
       "AnimalsBeingBros          231       231    231          231     231      231   \n",
       "socialanxiety             232       232    232          232     232      232   \n",
       "cringe                    239       239    239          239     239      239   \n",
       "loveafterlockup           241       241    241          241     241      241   \n",
       "\n",
       "                  sadness  surprise  neutral  \n",
       "subreddit                                     \n",
       "farcry                 25        25       25  \n",
       "shieldbro              32        32       32  \n",
       "Anticonsumption        34        34       34  \n",
       "SSBM                   35        35       35  \n",
       "darknet                38        38       38  \n",
       "...                   ...       ...      ...  \n",
       "vanderpumprules       221       221      221  \n",
       "AnimalsBeingBros      231       231      231  \n",
       "socialanxiety         232       232      232  \n",
       "cringe                239       239      239  \n",
       "loveafterlockup       241       241      241  \n",
       "\n",
       "[483 rows x 30 columns]"
      ]
     },
     "execution_count": 15,
     "metadata": {},
     "output_type": "execute_result"
    }
   ],
   "source": [
    "df.groupby(['subreddit']).count().sort_values('id')"
   ]
  },
  {
   "cell_type": "code",
   "execution_count": 20,
   "metadata": {},
   "outputs": [],
   "source": [
    "subreddit_df = pd.DataFrame(columns = ['subreddit', 'emotion', 'count'])\n",
    "for emotion in emotions_cols:\n",
    "    gp_df = df.groupby(['subreddit'])[emotion].sum()\n",
    "    d = {'subreddit': gp_df.index, 'emotion': [emotion]*len(gp_df), 'count':gp_df.values}\n",
    "    subreddit_df = subreddit_df.append(pd.DataFrame(data = d), ignore_index=True)"
   ]
  },
  {
   "cell_type": "code",
   "execution_count": 9,
   "metadata": {},
   "outputs": [],
   "source": [
    "#hv.extension('bokeh')\n",
    "#hv.Sankey(subreddit_df.loc[lambda f: f['subreddit'] == 'socialanxiety'])"
   ]
  },
  {
   "cell_type": "code",
   "execution_count": 59,
   "metadata": {},
   "outputs": [],
   "source": [
    "#subreddit_df.to_csv('subreddit_emotion.csv')"
   ]
  },
  {
   "cell_type": "code",
   "execution_count": 39,
   "metadata": {},
   "outputs": [],
   "source": [
    "text_df = pd.DataFrame(columns = ['subreddit', 'emotion', 'text'])\n",
    "for emotion in emotions_cols:\n",
    "    df_long = df[df['text'].str.split().str.len().ge(4)] # Remove short posts\n",
    "    df_sorted = df_long.sort_values(emotion, ascending=False)\n",
    "    gp_df = df_sorted.groupby('subreddit').first()\n",
    "    d = {'subreddit': gp_df.index, 'emotion': [emotion]*len(gp_df), 'text':gp_df['text']}\n",
    "    text_df = text_df.append(pd.DataFrame(data = d), ignore_index=True)"
   ]
  },
  {
   "cell_type": "code",
   "execution_count": 44,
   "metadata": {},
   "outputs": [],
   "source": [
    "full_df = pd.merge(text_df, subreddit_df, how='left', on=['subreddit', 'emotion'])"
   ]
  },
  {
   "cell_type": "code",
   "execution_count": 46,
   "metadata": {},
   "outputs": [],
   "source": [
    "full_df.columns = ['source', 'target', 'text', 'value']"
   ]
  },
  {
   "cell_type": "code",
   "execution_count": 47,
   "metadata": {},
   "outputs": [],
   "source": [
    "full_df.to_csv('subreddit_emotion_2.csv')"
   ]
  },
  {
   "cell_type": "code",
   "execution_count": 45,
   "metadata": {},
   "outputs": [
    {
     "data": {
      "text/html": [
       "<div>\n",
       "<style scoped>\n",
       "    .dataframe tbody tr th:only-of-type {\n",
       "        vertical-align: middle;\n",
       "    }\n",
       "\n",
       "    .dataframe tbody tr th {\n",
       "        vertical-align: top;\n",
       "    }\n",
       "\n",
       "    .dataframe thead th {\n",
       "        text-align: right;\n",
       "    }\n",
       "</style>\n",
       "<table border=\"1\" class=\"dataframe\">\n",
       "  <thead>\n",
       "    <tr style=\"text-align: right;\">\n",
       "      <th></th>\n",
       "      <th>subreddit</th>\n",
       "      <th>emotion</th>\n",
       "      <th>text</th>\n",
       "      <th>count</th>\n",
       "    </tr>\n",
       "  </thead>\n",
       "  <tbody>\n",
       "    <tr>\n",
       "      <th>0</th>\n",
       "      <td>2meirl4meirl</td>\n",
       "      <td>admiration</td>\n",
       "      <td>Or embalmed! Green burial is the best burial</td>\n",
       "      <td>47</td>\n",
       "    </tr>\n",
       "    <tr>\n",
       "      <th>1</th>\n",
       "      <td>49ers</td>\n",
       "      <td>admiration</td>\n",
       "      <td>Can we please just call out defense next year ...</td>\n",
       "      <td>50</td>\n",
       "    </tr>\n",
       "    <tr>\n",
       "      <th>2</th>\n",
       "      <td>4PanelCringe</td>\n",
       "      <td>admiration</td>\n",
       "      <td>Seriously. [NAME] is a hero. I heard he was a ...</td>\n",
       "      <td>52</td>\n",
       "    </tr>\n",
       "    <tr>\n",
       "      <th>3</th>\n",
       "      <td>90DayFiance</td>\n",
       "      <td>admiration</td>\n",
       "      <td>maybe. Id praise her for it though. In a world...</td>\n",
       "      <td>76</td>\n",
       "    </tr>\n",
       "    <tr>\n",
       "      <th>4</th>\n",
       "      <td>90dayfianceuncensored</td>\n",
       "      <td>admiration</td>\n",
       "      <td>She could and should pursue modeling! It seeme...</td>\n",
       "      <td>43</td>\n",
       "    </tr>\n",
       "    <tr>\n",
       "      <th>...</th>\n",
       "      <td>...</td>\n",
       "      <td>...</td>\n",
       "      <td>...</td>\n",
       "      <td>...</td>\n",
       "    </tr>\n",
       "    <tr>\n",
       "      <th>13519</th>\n",
       "      <td>worldpolitics</td>\n",
       "      <td>neutral</td>\n",
       "      <td>The original video was debunked. Do you agree ...</td>\n",
       "      <td>156</td>\n",
       "    </tr>\n",
       "    <tr>\n",
       "      <th>13520</th>\n",
       "      <td>yesyesyesyesno</td>\n",
       "      <td>neutral</td>\n",
       "      <td>This is like 4 years old from vine</td>\n",
       "      <td>198</td>\n",
       "    </tr>\n",
       "    <tr>\n",
       "      <th>13521</th>\n",
       "      <td>youseeingthisshit</td>\n",
       "      <td>neutral</td>\n",
       "      <td>Imagine being upset over who someone loves.</td>\n",
       "      <td>198</td>\n",
       "    </tr>\n",
       "    <tr>\n",
       "      <th>13522</th>\n",
       "      <td>youtube</td>\n",
       "      <td>neutral</td>\n",
       "      <td>Naming comes from the heart</td>\n",
       "      <td>95</td>\n",
       "    </tr>\n",
       "    <tr>\n",
       "      <th>13523</th>\n",
       "      <td>youtubehaiku</td>\n",
       "      <td>neutral</td>\n",
       "      <td>I’m doing my part!</td>\n",
       "      <td>70</td>\n",
       "    </tr>\n",
       "  </tbody>\n",
       "</table>\n",
       "<p>13524 rows × 4 columns</p>\n",
       "</div>"
      ],
      "text/plain": [
       "                   subreddit     emotion  \\\n",
       "0               2meirl4meirl  admiration   \n",
       "1                      49ers  admiration   \n",
       "2               4PanelCringe  admiration   \n",
       "3                90DayFiance  admiration   \n",
       "4      90dayfianceuncensored  admiration   \n",
       "...                      ...         ...   \n",
       "13519          worldpolitics     neutral   \n",
       "13520         yesyesyesyesno     neutral   \n",
       "13521      youseeingthisshit     neutral   \n",
       "13522                youtube     neutral   \n",
       "13523           youtubehaiku     neutral   \n",
       "\n",
       "                                                    text count  \n",
       "0           Or embalmed! Green burial is the best burial    47  \n",
       "1      Can we please just call out defense next year ...    50  \n",
       "2      Seriously. [NAME] is a hero. I heard he was a ...    52  \n",
       "3      maybe. Id praise her for it though. In a world...    76  \n",
       "4      She could and should pursue modeling! It seeme...    43  \n",
       "...                                                  ...   ...  \n",
       "13519  The original video was debunked. Do you agree ...   156  \n",
       "13520                 This is like 4 years old from vine   198  \n",
       "13521        Imagine being upset over who someone loves.   198  \n",
       "13522                        Naming comes from the heart    95  \n",
       "13523                                 I’m doing my part!    70  \n",
       "\n",
       "[13524 rows x 4 columns]"
      ]
     },
     "execution_count": 45,
     "metadata": {},
     "output_type": "execute_result"
    }
   ],
   "source": [
    "full_df"
   ]
  },
  {
   "cell_type": "code",
   "execution_count": null,
   "metadata": {},
   "outputs": [],
   "source": []
  }
 ],
 "metadata": {
  "kernelspec": {
   "name": "python376jvsc74a57bd055cbe3d41f8f12bd0dbfbf5dfc94736b18500205abeb437c61b08d02033e2eff",
   "display_name": "Python 3.7.6 64-bit ('base': conda)"
  },
  "language_info": {
   "codemirror_mode": {
    "name": "ipython",
    "version": 3
   },
   "file_extension": ".py",
   "mimetype": "text/x-python",
   "name": "python",
   "nbconvert_exporter": "python",
   "pygments_lexer": "ipython3",
   "version": "3.7.6"
  }
 },
 "nbformat": 4,
 "nbformat_minor": 4
}